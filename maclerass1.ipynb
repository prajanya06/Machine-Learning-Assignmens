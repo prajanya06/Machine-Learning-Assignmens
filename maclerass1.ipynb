{
  "nbformat": 4,
  "nbformat_minor": 0,
  "metadata": {
    "colab": {
      "name": "maclerass1.ipynb",
      "provenance": [],
      "collapsed_sections": []
    },
    "kernelspec": {
      "name": "python3",
      "display_name": "Python 3"
    },
    "language_info": {
      "name": "python"
    }
  },
  "cells": [
    {
      "cell_type": "code",
      "metadata": {
        "id": "GpIE-MYag-7I"
      },
      "source": [
        "#1question1\n",
        "s=\"hi there class\"\n",
        "l=s.split()\n",
        "print(l)"
      ],
      "execution_count": null,
      "outputs": []
    },
    {
      "cell_type": "code",
      "metadata": {
        "id": "b1fOo0GchFm4"
      },
      "source": [
        "#1question2\n",
        "planet=\"earth\"\n",
        "diameter=\"12742\"\n",
        "print(\" the diameter of {} is {} kilometers\".format(planet,diameter))"
      ],
      "execution_count": null,
      "outputs": []
    },
    {
      "cell_type": "code",
      "metadata": {
        "id": "DTAo7_Hghr7Z",
        "colab": {
          "base_uri": "https://localhost:8080/"
        },
        "outputId": "57dd3cd8-2f0a-4767-e8ed-ab55863089c4"
      },
      "source": [
        "#1question3\n",
        "lst=[1,2,[3,4],[5,[100,200,['hello']],23,11],1,7]\n",
        "print(lst[3][1][2][0])"
      ],
      "execution_count": 8,
      "outputs": [
        {
          "output_type": "stream",
          "text": [
            "hello\n"
          ],
          "name": "stdout"
        }
      ]
    },
    {
      "cell_type": "code",
      "metadata": {
        "id": "nKgcY4fJmCZe"
      },
      "source": [
        "#1question4\n",
        "d={'k1':[1,2,3,{'tricky':['oh','man','inception',{'target':[1,2,3,'hello']}]}]}\n",
        "print(d['k1'][3]['tricky'][3]['target'][3])"
      ],
      "execution_count": null,
      "outputs": []
    },
    {
      "cell_type": "code",
      "metadata": {
        "id": "3rTDo6I8mIjA"
      },
      "source": [
        "#1question5\n",
        "s=\"user@domain.com\"\n",
        "domain=s[s.index('@')+1 : ]\n",
        "print(domain)"
      ],
      "execution_count": null,
      "outputs": []
    },
    {
      "cell_type": "code",
      "metadata": {
        "id": "lEUwH1bjm2Tm"
      },
      "source": [
        "#1question6\n",
        "k=\"i love dogs\"\n",
        "l=\"i love cats\"\n",
        "def findword(sen,word):\n",
        "    s=sen.split(\" \")\n",
        "    for i in s:\n",
        "        if (i==word):\n",
        "            return True\n",
        "    return False\n",
        "word=\"dogs\"\n",
        "if(findword(k,word)):\n",
        "    print(\"for k :yes\")\n",
        "else:\n",
        "    print(\"for k :no\")\n",
        "if(findword(l,word)):\n",
        "    print(\"for l :yes\")\n",
        "else:\n",
        "    print(\"for l :no\")"
      ],
      "execution_count": null,
      "outputs": []
    },
    {
      "cell_type": "code",
      "metadata": {
        "colab": {
          "base_uri": "https://localhost:8080/"
        },
        "id": "UlbrhaPdpL-f",
        "outputId": "4c2f114b-76df-42b7-aa42-6e2e135886b6"
      },
      "source": [
        "#1question7\n",
        "k=\"i love dogs. dogs are cute and loyal animals\"\n",
        "def countword(sen,word):\n",
        "    a=0\n",
        "    s=sen.split()\n",
        "    for i in s:\n",
        "        if i==word:\n",
        "            a+=1\n",
        "    return a\n",
        "\n",
        "w=\"dogs\"\n",
        "print(countword(k,w))\n",
        "\n",
        "#print(a)\n",
        "k.count(\"dogs\")"
      ],
      "execution_count": null,
      "outputs": [
        {
          "output_type": "stream",
          "text": [
            "1\n"
          ],
          "name": "stdout"
        },
        {
          "output_type": "execute_result",
          "data": {
            "text/plain": [
              "2"
            ]
          },
          "metadata": {
            "tags": []
          },
          "execution_count": 3
        }
      ]
    },
    {
      "cell_type": "code",
      "metadata": {
        "id": "hixPacVVra8O"
      },
      "source": [
        "#1question8\n",
        "seq = ['soup','dog','salad','cat','great']\n",
        "result=list(filter(lambda test: test[0]==\"s\",seq))\n",
        "print(result)"
      ],
      "execution_count": null,
      "outputs": []
    },
    {
      "cell_type": "code",
      "metadata": {
        "id": "Hevo4t9jn_Bk",
        "colab": {
          "base_uri": "https://localhost:8080/"
        },
        "outputId": "e254bcc5-0699-4456-808e-281852eddb3d"
      },
      "source": [
        "#1question9\n",
        "def speedingChallan(speed, isBirthday):\n",
        "  if isBirthday:\n",
        "    speeding=speed-5\n",
        "  else:\n",
        "    speeding=speed\n",
        "  if speeding<=60:\n",
        "    print('No Challan')\n",
        "  elif speeding>60 and speeding<=80:\n",
        "    print('Small Challan')\n",
        "  elif speeding>80:\n",
        "    print('Heavy Challan')\n",
        "speedingChallan(81, True)\n",
        "speedingChallan(81, False)\n",
        "speedingChallan(50, False)"
      ],
      "execution_count": 1,
      "outputs": [
        {
          "output_type": "stream",
          "text": [
            "Small Challan\n",
            "Heavy Challan\n",
            "No Challan\n"
          ],
          "name": "stdout"
        }
      ]
    },
    {
      "cell_type": "code",
      "metadata": {
        "colab": {
          "base_uri": "https://localhost:8080/"
        },
        "id": "lSVc3Lu5QnPB",
        "outputId": "a34e8f3c-19ff-4529-a8e0-d465c4bc2b5a"
      },
      "source": [
        "#1question10\n",
        "list1 = [\"M\", \"na\", \"i\", \"She\"]\n",
        "list2 = [\"y\", \"me\", \"s\", \"lly\"]\n",
        "concate=[i+j for i,j in zip(list1,list2)]\n",
        "print(concate)"
      ],
      "execution_count": 6,
      "outputs": [
        {
          "output_type": "stream",
          "text": [
            "['My', 'name', 'is', 'Shelly']\n"
          ],
          "name": "stdout"
        }
      ]
    },
    {
      "cell_type": "code",
      "metadata": {
        "colab": {
          "base_uri": "https://localhost:8080/"
        },
        "id": "Z6QJRelkRrXo",
        "outputId": "71e56704-cb3a-4a4a-c938-4c4d2b6d115b"
      },
      "source": [
        "#1question11\n",
        "list1 = [\"Hello \", \"take \"]\n",
        "list2 = [\"Dear\", \"Sir\"]\n",
        "concate=[]\n",
        "for i in list1:\n",
        "  for j in list2:\n",
        "    concate.append(i+j)\n",
        "print(concate)"
      ],
      "execution_count": 7,
      "outputs": [
        {
          "output_type": "stream",
          "text": [
            "['Hello Dear', 'Hello Sir', 'take Dear', 'take Sir']\n"
          ],
          "name": "stdout"
        }
      ]
    },
    {
      "cell_type": "code",
      "metadata": {
        "colab": {
          "base_uri": "https://localhost:8080/"
        },
        "id": "M-aQVYGNSQ5T",
        "outputId": "a33bc876-138c-4023-dfd7-8d3e977a4792"
      },
      "source": [
        "#1question12\n",
        "list1 = [10, 20, [300, 400, [5000, 6000], 500], 30, 40]\n",
        "list1[2][2].append(7000)\n",
        "print(list1)\n"
      ],
      "execution_count": 11,
      "outputs": [
        {
          "output_type": "stream",
          "text": [
            "[10, 20, [300, 400, [5000, 6000, 7000], 500], 30, 40]\n"
          ],
          "name": "stdout"
        }
      ]
    },
    {
      "cell_type": "code",
      "metadata": {
        "colab": {
          "base_uri": "https://localhost:8080/"
        },
        "id": "7b60y-LRTmQs",
        "outputId": "c8b361d0-12f8-4a96-c901-7227d6a2a0d0"
      },
      "source": [
        "#1question13\n",
        "list1 = [5, 20, 15, 20, 25, 50, 20]\n",
        "for i in list1:\n",
        "  if(i==20):\n",
        "    list1.remove(i)\n",
        "print(list1)"
      ],
      "execution_count": 13,
      "outputs": [
        {
          "output_type": "stream",
          "text": [
            "[5, 15, 25, 50]\n"
          ],
          "name": "stdout"
        }
      ]
    },
    {
      "cell_type": "code",
      "metadata": {
        "colab": {
          "base_uri": "https://localhost:8080/"
        },
        "id": "W4Jhl_TiU9vv",
        "outputId": "9ce54e7c-977e-4fb1-ed15-375c824321c6"
      },
      "source": [
        "#1question14\n",
        "d1 = {'a': 100, 'b': 200, 'c': 300}\n",
        "val=list(d1.values())\n",
        "for i in val:\n",
        "  if (i==200):\n",
        "    print(\"value exits\")\n",
        "    break"
      ],
      "execution_count": 14,
      "outputs": [
        {
          "output_type": "stream",
          "text": [
            "value exits\n"
          ],
          "name": "stdout"
        }
      ]
    },
    {
      "cell_type": "code",
      "metadata": {
        "colab": {
          "base_uri": "https://localhost:8080/"
        },
        "id": "m9jI8bsbWQ3w",
        "outputId": "f000653f-fb5f-48f9-80d4-154a59d8d3c9"
      },
      "source": [
        "#1question15\n",
        "n=int(input(\"plz enter the number of terms: \"))\n",
        "k=0\n",
        "q=0\n",
        "for i in range(n):\n",
        "  q=2*pow(10,i-1)+q\n",
        "  k=k+(2*pow(10,i)+q)\n",
        "print(k)"
      ],
      "execution_count": 19,
      "outputs": [
        {
          "output_type": "stream",
          "text": [
            "plz enter the number of terms: 4\n",
            "2468.7999999999997\n"
          ],
          "name": "stdout"
        }
      ]
    },
    {
      "cell_type": "markdown",
      "metadata": {
        "id": "jDpC6olqbJRk"
      },
      "source": [
        "***END OF ASSIGNMENT 1***"
      ]
    }
  ]
}