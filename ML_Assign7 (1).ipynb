{
  "nbformat": 4,
  "nbformat_minor": 0,
  "metadata": {
    "colab": {
      "name": "ML_Assign7.ipynb",
      "provenance": [],
      "collapsed_sections": []
    },
    "kernelspec": {
      "name": "python3",
      "display_name": "Python 3"
    },
    "language_info": {
      "name": "python"
    }
  },
  "cells": [
    {
      "cell_type": "code",
      "metadata": {
        "id": "iY-XfEg34Tc3"
      },
      "source": [
        "import pandas as pd\n",
        "import numpy as np\n",
        "from sklearn.model_selection import train_test_split\n",
        "\n",
        "\n",
        "raw_data = pd.read_csv('/content/drive/MyDrive/Colab Notebooks/weather.csv')\n",
        "df = raw_data\n"
      ],
      "execution_count": null,
      "outputs": []
    },
    {
      "cell_type": "code",
      "metadata": {
        "id": "ntPk167r4Tak"
      },
      "source": [
        "x = df.iloc[:,0:4]\n",
        "y = df.iloc[:,4]\n",
        "\n",
        "x_train, x_test, y_train, y_test = train_test_split(x, y, test_size=0.2, random_state=22)\n"
      ],
      "execution_count": null,
      "outputs": []
    },
    {
      "cell_type": "code",
      "metadata": {
        "id": "F4pFrnPO4TYX",
        "colab": {
          "base_uri": "https://localhost:8080/"
        },
        "outputId": "58559903-3d69-4d04-e911-55e8c02482c0"
      },
      "source": [
        "train_size=x_train.shape[0]\n",
        "class_priors={}\n",
        "for outcome in np.unique(y_train):\n",
        "    outcome_count = sum(y_train == outcome)    \n",
        "    class_priors[outcome] = outcome_count / train_size\n",
        "print(class_priors)"
      ],
      "execution_count": null,
      "outputs": [
        {
          "output_type": "stream",
          "name": "stdout",
          "text": [
            "{0: 0.45454545454545453, 1: 0.5454545454545454}\n"
          ]
        }
      ]
    },
    {
      "cell_type": "code",
      "metadata": {
        "id": "qAl8va4E-zlQ",
        "colab": {
          "base_uri": "https://localhost:8080/"
        },
        "outputId": "6b8006d9-920f-421d-9a62-9f8dac5d1d91"
      },
      "source": [
        "features=list(x_train.columns)\n",
        "print(len(x_train))\n",
        "likelihoods={}\n",
        "for outcome in np.unique(y_train):\n",
        "    outcome_count = sum(y_train == outcome)\n",
        "    for feature in features:\n",
        "        for feat_value in np.unique(x_train[feature]):\n",
        "            count=0\n",
        "            l = list(x_train.index)\n",
        "            for i in l:\n",
        "              if(x_train[feature][i]==feat_value and y_train[i]==outcome):\n",
        "                  count=count+1\n",
        "            likelihoods[(feature,feat_value,outcome)]=(count+1)/(outcome_count+(len(features)))\n",
        "\n",
        "print(likelihoods)"
      ],
      "execution_count": null,
      "outputs": [
        {
          "output_type": "stream",
          "name": "stdout",
          "text": [
            "11\n",
            "{('outlook', 'overcast', 0): 0.1111111111111111, ('outlook', 'rainy', 0): 0.3333333333333333, ('outlook', 'sunny', 0): 0.4444444444444444, ('temperature', 'cool', 0): 0.2222222222222222, ('temperature', 'hot', 0): 0.3333333333333333, ('temperature', 'mild', 0): 0.3333333333333333, ('humidity', 'high', 0): 0.5555555555555556, ('humidity', 'normal', 0): 0.2222222222222222, ('windy', False, 0): 0.3333333333333333, ('windy', True, 0): 0.4444444444444444, ('outlook', 'overcast', 1): 0.4, ('outlook', 'rainy', 1): 0.3, ('outlook', 'sunny', 1): 0.2, ('temperature', 'cool', 1): 0.4, ('temperature', 'hot', 1): 0.3, ('temperature', 'mild', 1): 0.2, ('humidity', 'high', 1): 0.3, ('humidity', 'normal', 1): 0.5, ('windy', False, 1): 0.6, ('windy', True, 1): 0.2}\n"
          ]
        }
      ]
    },
    {
      "cell_type": "code",
      "metadata": {
        "colab": {
          "base_uri": "https://localhost:8080/"
        },
        "id": "fZB2dam9-zh2",
        "outputId": "c5a03924-d817-4baf-b0f0-2a190ba2ac9e"
      },
      "source": [
        "a=len(np.unique(y_train))\n",
        "prob=np.ones((a,len(x_test)),dtype=np.float)\n",
        "print(prob)\n",
        "for outcome in(np.unique(y_train)):\n",
        "    outcome_count = sum(y_train == outcome)\n",
        "    for feature in features:\n",
        "        l1 = list(x_test.index)\n",
        "\n",
        "        j=0\n",
        "        for i in l1:\n",
        "            print(i, outcome, feature)\n",
        "            if  (feature,x_test[feature][i],outcome) in likelihoods.keys():\n",
        "                prob[outcome][j]=prob[outcome][j]*likelihoods[(feature,x_test[feature][i],outcome)]\n",
        "            else:\n",
        "                prob[outcome][j]=prob[outcome][j]*(1/(outcome_count+len(features)))\n",
        "        j = j+1\n",
        "print(prob)"
      ],
      "execution_count": null,
      "outputs": [
        {
          "output_type": "stream",
          "name": "stdout",
          "text": [
            "[[1. 1. 1.]\n",
            " [1. 1. 1.]]\n",
            "7 0 outlook\n",
            "13 0 outlook\n",
            "2 0 outlook\n",
            "7 0 temperature\n",
            "13 0 temperature\n",
            "2 0 temperature\n",
            "7 0 humidity\n",
            "13 0 humidity\n",
            "2 0 humidity\n",
            "7 0 windy\n",
            "13 0 windy\n",
            "2 0 windy\n",
            "7 1 outlook\n",
            "13 1 outlook\n",
            "2 1 outlook\n",
            "7 1 temperature\n",
            "13 1 temperature\n",
            "2 1 temperature\n",
            "7 1 humidity\n",
            "13 1 humidity\n",
            "2 1 humidity\n",
            "7 1 windy\n",
            "13 1 windy\n",
            "2 1 windy\n",
            "[[1.10130124e-06 1.00000000e+00 1.00000000e+00]\n",
            " [3.45600000e-07 1.00000000e+00 1.00000000e+00]]\n"
          ]
        }
      ]
    },
    {
      "cell_type": "code",
      "metadata": {
        "id": "acj5HglR-zdv",
        "colab": {
          "base_uri": "https://localhost:8080/"
        },
        "outputId": "f55a766f-1282-4870-d50e-09a36f039ac2"
      },
      "source": [
        "for i in range(prob.shape[0]):\n",
        "    prob[i][:]=prob[i][:]*class_priors[i]\n",
        " \n",
        "#Predicting Labels\n",
        "Y_label=np.zeros(len(y_test))\n",
        "for i in range(len(x_test)):\n",
        "    if (prob[1,i]>=prob[0,i]):\n",
        "        Y_label[i]=1\n",
        "\n",
        "print(Y_label)"
      ],
      "execution_count": null,
      "outputs": [
        {
          "output_type": "stream",
          "name": "stdout",
          "text": [
            "[0. 1. 1.]\n"
          ]
        }
      ]
    },
    {
      "cell_type": "code",
      "metadata": {
        "id": "zN8buCEv-zbg",
        "colab": {
          "base_uri": "https://localhost:8080/"
        },
        "outputId": "3bac2c83-397b-4d5f-9c76-3cca208e454f"
      },
      "source": [
        "y_test"
      ],
      "execution_count": null,
      "outputs": [
        {
          "output_type": "execute_result",
          "data": {
            "text/plain": [
              "7     1\n",
              "13    1\n",
              "2     1\n",
              "Name: play, dtype: int64"
            ]
          },
          "metadata": {},
          "execution_count": 49
        }
      ]
    },
    {
      "cell_type": "code",
      "metadata": {
        "id": "8zCVMq4C-zZO",
        "colab": {
          "base_uri": "https://localhost:8080/"
        },
        "outputId": "97f7f091-b73c-437d-aed3-167e44f7c6d7"
      },
      "source": [
        "from sklearn import metrics \n",
        "print(metrics.classification_report(y_test,Y_label)) \n",
        "print(metrics.confusion_matrix(y_test,Y_label))"
      ],
      "execution_count": null,
      "outputs": [
        {
          "output_type": "stream",
          "name": "stdout",
          "text": [
            "              precision    recall  f1-score   support\n",
            "\n",
            "         0.0       0.00      0.00      0.00         0\n",
            "         1.0       1.00      0.67      0.80         3\n",
            "\n",
            "    accuracy                           0.67         3\n",
            "   macro avg       0.50      0.33      0.40         3\n",
            "weighted avg       1.00      0.67      0.80         3\n",
            "\n",
            "[[0 0]\n",
            " [1 2]]\n"
          ]
        },
        {
          "output_type": "stream",
          "name": "stderr",
          "text": [
            "/usr/local/lib/python3.7/dist-packages/sklearn/metrics/_classification.py:1272: UndefinedMetricWarning: Recall and F-score are ill-defined and being set to 0.0 in labels with no true samples. Use `zero_division` parameter to control this behavior.\n",
            "  _warn_prf(average, modifier, msg_start, len(result))\n"
          ]
        }
      ]
    },
    {
      "cell_type": "code",
      "metadata": {
        "id": "-qTEBrah-zW8",
        "colab": {
          "base_uri": "https://localhost:8080/"
        },
        "outputId": "8f965725-7eb3-45af-9bea-574237a182d4"
      },
      "source": [
        "from sklearn.metrics import *\n",
        "cm = confusion_matrix(y_test,Y_label)\n",
        "acc = accuracy_score(y_test,Y_label)\n",
        "prec = precision_score(y_test,Y_label)\n",
        "rec = recall_score(y_test,Y_label)\n",
        "f1 = f1_score(y_test,Y_label)\n",
        "\n",
        "print(\"Confusion matrix: \\n\", cm,\"\\n\")\n",
        "print(\"Accuracy: \", acc)\n",
        "print(\"Precision: \", prec)\n",
        "print(\"Recall: \", rec)\n",
        "print(\"F1 score: \", f1)"
      ],
      "execution_count": null,
      "outputs": [
        {
          "output_type": "stream",
          "name": "stdout",
          "text": [
            "Confusion matrix: \n",
            " [[0 0]\n",
            " [1 2]] \n",
            "\n",
            "Accuracy:  0.6666666666666666\n",
            "Precision:  1.0\n",
            "Recall:  0.6666666666666666\n",
            "F1 score:  0.8\n"
          ]
        }
      ]
    },
    {
      "cell_type": "code",
      "metadata": {
        "id": "C7mUYEFm-zVg",
        "colab": {
          "base_uri": "https://localhost:8080/"
        },
        "outputId": "8f9a7740-6a73-4500-9ff8-bafac7a6a0a5"
      },
      "source": [
        "TN = cm[0][0]\n",
        "FP = cm[0][1]\n",
        "FN = cm[1][0]\n",
        "TP = cm[1][1]\n",
        "\n",
        "print(\"TP: \", TP)\n",
        "print(\"TN: \", TN)\n",
        "print(\"FP: \", FP)\n",
        "print(\"FN: \", FN)\n",
        "\n"
      ],
      "execution_count": null,
      "outputs": [
        {
          "output_type": "stream",
          "name": "stdout",
          "text": [
            "TP:  2\n",
            "TN:  0\n",
            "FP:  0\n",
            "FN:  1\n"
          ]
        }
      ]
    },
    {
      "cell_type": "code",
      "metadata": {
        "id": "jHwBS7ph-zS5",
        "colab": {
          "base_uri": "https://localhost:8080/"
        },
        "outputId": "14bca7bb-9e79-4df7-e104-933ba13bacda"
      },
      "source": [
        "TPR = TP/(TP+FN)\n",
        "TNR = TN/(TN+FP) \n",
        "FPR = FP/(TP+FN)\n",
        "FNR = FN/(TN+FP) \n",
        "\n",
        "print(\"TPR: \", TPR)\n",
        "print(\"TNR: \", TNR)\n",
        "print(\"FPR: \", FPR)\n",
        "print(\"FNR: \", FNR)\n",
        "\n"
      ],
      "execution_count": null,
      "outputs": [
        {
          "output_type": "stream",
          "name": "stdout",
          "text": [
            "TPR:  0.6666666666666666\n",
            "TNR:  nan\n",
            "FPR:  0.0\n",
            "FNR:  inf\n"
          ]
        },
        {
          "output_type": "stream",
          "name": "stderr",
          "text": [
            "/usr/local/lib/python3.7/dist-packages/ipykernel_launcher.py:2: RuntimeWarning: invalid value encountered in long_scalars\n",
            "  \n",
            "/usr/local/lib/python3.7/dist-packages/ipykernel_launcher.py:4: RuntimeWarning: divide by zero encountered in long_scalars\n",
            "  after removing the cwd from sys.path.\n"
          ]
        }
      ]
    }
  ]
}